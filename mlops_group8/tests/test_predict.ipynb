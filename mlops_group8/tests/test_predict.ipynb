{
 "cells": [
  {
   "cell_type": "code",
   "execution_count": 2,
   "metadata": {},
   "outputs": [
    {
     "name": "stderr",
     "output_type": "stream",
     "text": [
      "/home/lucas/miniconda3/envs/my_env/lib/python3.11/site-packages/tqdm/auto.py:21: TqdmWarning: IProgress not found. Please update jupyter and ipywidgets. See https://ipywidgets.readthedocs.io/en/stable/user_install.html\n",
      "  from .autonotebook import tqdm as notebook_tqdm\n"
     ]
    }
   ],
   "source": [
    "import timm \n",
    "import torch\n",
    "import os\n",
    "import cv2\n",
    "import numpy as np\n",
    "import click\n",
    "import matplotlib.pyplot as plt"
   ]
  },
  {
   "cell_type": "code",
   "execution_count": 3,
   "metadata": {},
   "outputs": [],
   "source": [
    "import albumentations as A\n",
    "from albumentations.pytorch import ToTensorV2"
   ]
  },
  {
   "cell_type": "markdown",
   "metadata": {},
   "source": [
    "Import model"
   ]
  },
  {
   "cell_type": "code",
   "execution_count": 16,
   "metadata": {},
   "outputs": [],
   "source": [
    "model = timm.create_model(\"resnet50\", pretrained=True, num_classes=5 )"
   ]
  },
  {
   "cell_type": "markdown",
   "metadata": {},
   "source": [
    "Prepare data"
   ]
  },
  {
   "cell_type": "code",
   "execution_count": 17,
   "metadata": {},
   "outputs": [
    {
     "name": "stderr",
     "output_type": "stream",
     "text": [
      "Clipping input data to the valid range for imshow with RGB data ([0..1] for floats or [0..255] for integers).\n"
     ]
    },
    {
     "name": "stdout",
     "output_type": "stream",
     "text": [
      "torch.Size([3, 224, 224])\n",
      "torch.Size([1, 3, 224, 224])\n",
      "torch.FloatTensor\n"
     ]
    },
    {
     "data": {
      "image/png": "[encoded data removed]",
      "text/plain": [
       "<Figure size 640x480 with 1 Axes>"
      ]
     },
     "metadata": {},
     "output_type": "display_data"
    }
   ],
   "source": [
    "input_path = \"../../data/raw/Arborio/Arborio (2).jpg\"\n",
    "\n",
    "\n",
    "# Load the image\n",
    "input_data = cv2.imread(input_path)\n",
    "# Convert to RGB\n",
    "input_data = cv2.cvtColor(input_data, cv2.COLOR_BGR2RGB)\n",
    "\n",
    "\n",
    "\n",
    "# Use albumentations to augment the image (resize and normalize)\n",
    "transform = A.Compose([\n",
    "    A.Resize(width=224, height=224),\n",
    "    A.Normalize(),\n",
    "    ToTensorV2()\n",
    "])\n",
    "\n",
    "input_data = transform(image=input_data)[\"image\"]\n",
    "\n",
    "\n",
    "print(input_data.shape) # (3,224,224)\n",
    "# Show the image\n",
    "plt.imshow(input_data.permute(1,2,0))\n",
    "\n",
    "# Unsqeeze to add a batch dimension (1,3,224,224\n",
    "input_data = input_data.unsqueeze(0) # (1,3,224,224)\n",
    "print(input_data.shape)\n",
    "\n",
    "\n",
    "# Show type\n",
    "print(input_data.type())"
   ]
  },
  {
   "cell_type": "code",
   "execution_count": 18,
   "metadata": {},
   "outputs": [
    {
     "name": "stdout",
     "output_type": "stream",
     "text": [
      "tensor([0.2088, 0.2025, 0.2104, 0.1857, 0.1925])\n",
      "Ipsala\n",
      "tensor([2])\n"
     ]
    }
   ],
   "source": [
    "device = torch.device(\"cuda:0\" if torch.cuda.is_available() else \"cpu\")\n",
    "\n",
    "# Use albumentations to augment the image (resize and normalize)\n",
    "transform = A.Compose([\n",
    "    A.Resize(width=224, height=224),\n",
    "    A.Normalize(),\n",
    "    ToTensorV2()\n",
    "])\n",
    "\n",
    "\n",
    "LABLES = [\"Arborio\", \"Basmati\", \"Ipsala\", \"Jasmine\", \"Karacadag\"]\n",
    "predictions = []\n",
    "\n",
    "\n",
    "\n",
    "with torch.no_grad():\n",
    "    for image in input_data:\n",
    "        image = image.unsqueeze(0)\n",
    "\n",
    "        output = model(image.float().to(device))\n",
    "        probabilities = torch.nn.functional.softmax(output[0], dim=0)\n",
    "        print(probabilities)\n",
    "\n",
    "        predictions.append(output.argmax(dim=1).cpu())\n",
    "        print(LABLES[predictions[0]])\n",
    "\n",
    "    predictions = torch.cat(predictions, dim=0)\n",
    "\n",
    "print(predictions)"
   ]
  },
  {
   "cell_type": "code",
   "execution_count": null,
   "metadata": {},
   "outputs": [],
   "source": [
    ".1894"
   ]
  }
 ],
 "metadata": {
  "kernelspec": {
   "display_name": "my_env",
   "language": "python",
   "name": "python3"
  },
  "language_info": {
   "codemirror_mode": {
    "name": "ipython",
    "version": 3
   },
   "file_extension": ".py",
   "mimetype": "text/x-python",
   "name": "python",
   "nbconvert_exporter": "python",
   "pygments_lexer": "ipython3",
   "version": "3.11.5"
  }
 },
 "nbformat": 4,
 "nbformat_minor": 2
}
