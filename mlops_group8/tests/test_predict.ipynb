{
 "cells": [
  {
   "cell_type": "code",
   "execution_count": 2,
   "metadata": {},
   "outputs": [],
   "source": [
    "import timm \n",
    "import torch\n",
    "import os\n",
    "import cv2\n",
    "import numpy as np\n",
    "import click\n",
    "import matplotlib.pyplot as plt"
   ]
  },
  {
   "cell_type": "code",
   "execution_count": 3,
   "metadata": {},
   "outputs": [],
   "source": [
    "import albumentations as A\n",
    "from albumentations.pytorch import ToTensorV2"
   ]
  },
  {
   "cell_type": "markdown",
   "metadata": {},
   "source": [
    "Import model"
   ]
  },
  {
   "cell_type": "code",
   "execution_count": 4,
   "metadata": {},
   "outputs": [],
   "source": [
    "model = timm.create_model(\"resnet50\", pretrained=True, num_classes=5 )"
   ]
  },
  {
   "cell_type": "markdown",
   "metadata": {},
   "source": [
    "Prepare data"
   ]
  },
  {
   "cell_type": "code",
   "execution_count": 5,
   "metadata": {},
   "outputs": [
    {
     "name": "stderr",
     "output_type": "stream",
     "text": [
      "[ WARN:0@11.678] global loadsave.cpp:248 findDecoder imread_('../data/raw/Arborio/Arborio (2).jpg'): can't open/read file: check file path/integrity\n"
     ]
    },
    {
     "ename": "error",
     "evalue": "OpenCV(4.9.0) /io/opencv/modules/imgproc/src/color.cpp:196: error: (-215:Assertion failed) !_src.empty() in function 'cvtColor'\n",
     "output_type": "error",
     "traceback": [
      "\u001b[0;31m---------------------------------------------------------------------------\u001b[0m",
      "\u001b[0;31merror\u001b[0m                                     Traceback (most recent call last)",
      "Cell \u001b[0;32mIn[5], line 7\u001b[0m\n\u001b[1;32m      5\u001b[0m input_data \u001b[38;5;241m=\u001b[39m cv2\u001b[38;5;241m.\u001b[39mimread(input_path)\n\u001b[1;32m      6\u001b[0m \u001b[38;5;66;03m# Convert to RGB\u001b[39;00m\n\u001b[0;32m----> 7\u001b[0m input_data \u001b[38;5;241m=\u001b[39m \u001b[43mcv2\u001b[49m\u001b[38;5;241;43m.\u001b[39;49m\u001b[43mcvtColor\u001b[49m\u001b[43m(\u001b[49m\u001b[43minput_data\u001b[49m\u001b[43m,\u001b[49m\u001b[43m \u001b[49m\u001b[43mcv2\u001b[49m\u001b[38;5;241;43m.\u001b[39;49m\u001b[43mCOLOR_BGR2RGB\u001b[49m\u001b[43m)\u001b[49m\n\u001b[1;32m     11\u001b[0m \u001b[38;5;66;03m# Use albumentations to augment the image (resize and normalize)\u001b[39;00m\n\u001b[1;32m     12\u001b[0m transform \u001b[38;5;241m=\u001b[39m A\u001b[38;5;241m.\u001b[39mCompose([\n\u001b[1;32m     13\u001b[0m     A\u001b[38;5;241m.\u001b[39mResize(width\u001b[38;5;241m=\u001b[39m\u001b[38;5;241m224\u001b[39m, height\u001b[38;5;241m=\u001b[39m\u001b[38;5;241m224\u001b[39m),\n\u001b[1;32m     14\u001b[0m     A\u001b[38;5;241m.\u001b[39mNormalize(),\n\u001b[1;32m     15\u001b[0m     ToTensorV2()\n\u001b[1;32m     16\u001b[0m ])\n",
      "\u001b[0;31merror\u001b[0m: OpenCV(4.9.0) /io/opencv/modules/imgproc/src/color.cpp:196: error: (-215:Assertion failed) !_src.empty() in function 'cvtColor'\n"
     ]
    }
   ],
   "source": [
    "input_path = \"../data/raw/Arborio/Arborio (2).jpg\"\n",
    "\n",
    "\n",
    "# Load the image\n",
    "input_data = cv2.imread(input_path)\n",
    "# Convert to RGB\n",
    "input_data = cv2.cvtColor(input_data, cv2.COLOR_BGR2RGB)\n",
    "\n",
    "\n",
    "\n",
    "# Use albumentations to augment the image (resize and normalize)\n",
    "transform = A.Compose([\n",
    "    A.Resize(width=224, height=224),\n",
    "    A.Normalize(),\n",
    "    ToTensorV2()\n",
    "])\n",
    "\n",
    "input_data = transform(image=input_data)[\"image\"]\n",
    "\n",
    "\n",
    "print(input_data.shape) # (3,224,224)\n",
    "# Show the image\n",
    "plt.imshow(input_data.permute(1,2,0))\n",
    "\n",
    "# Unsqeeze to add a batch dimension (1,3,224,224\n",
    "input_data = input_data.unsqueeze(0) # (1,3,224,224)\n",
    "print(input_data.shape)\n",
    "\n",
    "\n",
    "# Show type\n",
    "print(input_data.type())"
   ]
  },
  {
   "cell_type": "code",
   "execution_count": 110,
   "metadata": {},
   "outputs": [
    {
     "name": "stdout",
     "output_type": "stream",
     "text": [
      "tensor([0.2126, 0.2007, 0.1949, 0.1969, 0.1949])\n",
      "Arborio\n",
      "tensor([0])\n"
     ]
    }
   ],
   "source": [
    "device = torch.device(\"cuda:0\" if torch.cuda.is_available() else \"cpu\")\n",
    "\n",
    "# Use albumentations to augment the image (resize and normalize)\n",
    "transform = A.Compose([\n",
    "    A.Resize(width=224, height=224),\n",
    "    A.Normalize(),\n",
    "    ToTensorV2()\n",
    "])\n",
    "\n",
    "\n",
    "LABLES = [\"Arborio\", \"Basmati\", \"Ipsala\", \"Jasmine\", \"Karacadag\"]\n",
    "predictions = []\n",
    "\n",
    "\n",
    "\n",
    "with torch.no_grad():\n",
    "    for image in input_data:\n",
    "        image = image.unsqueeze(0)\n",
    "\n",
    "        output = model(image.float().to(device))\n",
    "        probabilities = torch.nn.functional.softmax(output[0], dim=0)\n",
    "        print(probabilities)\n",
    "\n",
    "        predictions.append(output.argmax(dim=1).cpu())\n",
    "        print(LABLES[predictions[0]])\n",
    "\n",
    "    predictions = torch.cat(predictions, dim=0)\n",
    "\n",
    "print(predictions)"
   ]
  },
  {
   "cell_type": "code",
   "execution_count": null,
   "metadata": {},
   "outputs": [],
   "source": []
  }
 ],
 "metadata": {
  "kernelspec": {
   "display_name": "my_env",
   "language": "python",
   "name": "python3"
  },
  "language_info": {
   "codemirror_mode": {
    "name": "ipython",
    "version": 3
   },
   "file_extension": ".py",
   "mimetype": "text/x-python",
   "name": "python",
   "nbconvert_exporter": "python",
   "pygments_lexer": "ipython3",
   "version": "3.11.5"
  }
 },
 "nbformat": 4,
 "nbformat_minor": 2
}
