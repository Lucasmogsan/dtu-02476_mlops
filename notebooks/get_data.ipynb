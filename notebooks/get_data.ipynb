{
 "cells": [
  {
   "cell_type": "code",
   "execution_count": 1,
   "metadata": {},
   "outputs": [],
   "source": [
    "import torch\n",
    "from torch.utils.data import DataLoader, ConcatDataset"
   ]
  },
  {
   "cell_type": "code",
   "execution_count": 2,
   "metadata": {},
   "outputs": [
    {
     "name": "stdout",
     "output_type": "stream",
     "text": [
      "torch.Size([400, 1, 224, 224])\n",
      "torch.Size([400])\n"
     ]
    }
   ],
   "source": [
    "single_file = torch.load(\"../data/processed/train_data_0.pt\")\n",
    "\n",
    "train_0_img = single_file[:][0]\n",
    "print(train_0_img.shape)\n",
    "\n",
    "train_0_label = single_file[:][1]\n",
    "print(train_0_label.shape)"
   ]
  },
  {
   "cell_type": "code",
   "execution_count": 3,
   "metadata": {},
   "outputs": [],
   "source": [
    "train_dataset_0 = torch.load(\"../data/processed/train_data_0.pt\")\n",
    "train_dataset_1 = torch.load(\"../data/processed/train_data_1.pt\")\n",
    "\n",
    "train_dataset = ConcatDataset([train_dataset_0, train_dataset_1])"
   ]
  },
  {
   "cell_type": "code",
   "execution_count": 13,
   "metadata": {},
   "outputs": [
    {
     "name": "stdout",
     "output_type": "stream",
     "text": [
      "2\n"
     ]
    }
   ],
   "source": [
    "labels = [label.item() for _, label in train_dataset]\n",
    "print(len(set(labels)))"
   ]
  },
  {
   "cell_type": "code",
   "execution_count": 4,
   "metadata": {},
   "outputs": [
    {
     "ename": "TypeError",
     "evalue": "'<' not supported between instances of 'slice' and 'int'",
     "output_type": "error",
     "traceback": [
      "\u001b[0;31m---------------------------------------------------------------------------\u001b[0m",
      "\u001b[0;31mTypeError\u001b[0m                                 Traceback (most recent call last)",
      "Cell \u001b[0;32mIn[4], line 2\u001b[0m\n\u001b[1;32m      1\u001b[0m \u001b[38;5;66;03m# Show shape of labels in train_dataset\u001b[39;00m\n\u001b[0;32m----> 2\u001b[0m \u001b[38;5;28mprint\u001b[39m(\u001b[43mtrain_dataset\u001b[49m\u001b[43m[\u001b[49m\u001b[43m:\u001b[49m\u001b[43m]\u001b[49m[\u001b[38;5;241m1\u001b[39m]\u001b[38;5;241m.\u001b[39mshape)\n",
      "File \u001b[0;32m~/miniconda3/envs/mlops_group8/lib/python3.11/site-packages/torch/utils/data/dataset.py:293\u001b[0m, in \u001b[0;36mConcatDataset.__getitem__\u001b[0;34m(self, idx)\u001b[0m\n\u001b[1;32m    292\u001b[0m \u001b[38;5;28;01mdef\u001b[39;00m \u001b[38;5;21m__getitem__\u001b[39m(\u001b[38;5;28mself\u001b[39m, idx):\n\u001b[0;32m--> 293\u001b[0m     \u001b[38;5;28;01mif\u001b[39;00m \u001b[43midx\u001b[49m\u001b[43m \u001b[49m\u001b[38;5;241;43m<\u001b[39;49m\u001b[43m \u001b[49m\u001b[38;5;241;43m0\u001b[39;49m:\n\u001b[1;32m    294\u001b[0m         \u001b[38;5;28;01mif\u001b[39;00m \u001b[38;5;241m-\u001b[39midx \u001b[38;5;241m>\u001b[39m \u001b[38;5;28mlen\u001b[39m(\u001b[38;5;28mself\u001b[39m):\n\u001b[1;32m    295\u001b[0m             \u001b[38;5;28;01mraise\u001b[39;00m \u001b[38;5;167;01mValueError\u001b[39;00m(\u001b[38;5;124m\"\u001b[39m\u001b[38;5;124mabsolute value of index should not exceed dataset length\u001b[39m\u001b[38;5;124m\"\u001b[39m)\n",
      "\u001b[0;31mTypeError\u001b[0m: '<' not supported between instances of 'slice' and 'int'"
     ]
    }
   ],
   "source": [
    "# Show shape of labels in train_dataset\n",
    "print(train_dataset[:][1].shape)"
   ]
  },
  {
   "cell_type": "code",
   "execution_count": 12,
   "metadata": {},
   "outputs": [],
   "source": [
    "train_dataloader = DataLoader(train_dataset, batch_size=10, shuffle=True)"
   ]
  },
  {
   "cell_type": "code",
   "execution_count": 13,
   "metadata": {},
   "outputs": [
    {
     "name": "stdout",
     "output_type": "stream",
     "text": [
      "80\n",
      "torch.Size([10, 1, 224, 224])\n",
      "torch.Size([10])\n",
      "tensor([0, 0, 1, 1, 1, 0, 0, 0, 0, 0])\n"
     ]
    }
   ],
   "source": [
    "# Show shape of dataloader\n",
    "print(len(train_dataloader))\n",
    "for data, labels in train_dataloader:\n",
    "    print(data.shape)\n",
    "    print(labels.shape)\n",
    "    # print labels\n",
    "    print(labels)\n",
    "    break"
   ]
  },
  {
   "cell_type": "code",
   "execution_count": 14,
   "metadata": {},
   "outputs": [],
   "source": [
    "classes = [0, 1, 3] # Classes to train on\n",
    "\n",
    "train_dataset = torch.load(\"../data/processed/train_data_\" + str(0) + \".pt\")\n",
    "if len(classes) > 1:\n",
    "    for _, i in enumerate(classes):\n",
    "        if i == 0:\n",
    "            continue\n",
    "        train_dataset_intermediate = torch.load(\"../data/processed/train_data_\" + str(i) + \".pt\")\n",
    "        train_dataset = torch.utils.data.ConcatDataset([train_dataset, train_dataset_intermediate])\n",
    "\n",
    "train_dataloader = torch.utils.data.DataLoader(train_dataset,\n",
    "                            batch_size=10,\n",
    "                            shuffle=True)"
   ]
  },
  {
   "cell_type": "code",
   "execution_count": 15,
   "metadata": {},
   "outputs": [
    {
     "name": "stdout",
     "output_type": "stream",
     "text": [
      "120\n",
      "torch.Size([10, 1, 224, 224])\n",
      "torch.Size([10])\n",
      "tensor([3, 0, 3, 1, 0, 3, 1, 3, 1, 1])\n"
     ]
    }
   ],
   "source": [
    "# Show shape of dataloader\n",
    "print(len(train_dataloader))\n",
    "for data, labels in train_dataloader:\n",
    "    print(data.shape)\n",
    "    print(labels.shape)\n",
    "    # print labels\n",
    "    print(labels)\n",
    "    break"
   ]
  }
 ],
 "metadata": {
  "kernelspec": {
   "display_name": "mlops_group8",
   "language": "python",
   "name": "python3"
  },
  "language_info": {
   "codemirror_mode": {
    "name": "ipython",
    "version": 3
   },
   "file_extension": ".py",
   "mimetype": "text/x-python",
   "name": "python",
   "nbconvert_exporter": "python",
   "pygments_lexer": "ipython3",
   "version": "3.11.7"
  }
 },
 "nbformat": 4,
 "nbformat_minor": 2
}
