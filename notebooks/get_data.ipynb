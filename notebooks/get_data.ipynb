{
 "cells": [
  {
   "cell_type": "code",
   "execution_count": 1,
   "metadata": {},
   "outputs": [],
   "source": [
    "import torch\n",
    "from torch.utils.data import DataLoader, ConcatDataset"
   ]
  },
  {
   "cell_type": "code",
   "execution_count": 23,
   "metadata": {},
   "outputs": [],
   "source": [
    "train_dataset_0 = torch.load(\"../data/processed/train_data_0.pt\")\n",
    "train_dataset_1 = torch.load(\"../data/processed/train_data_1.pt\")\n",
    "\n",
    "train_dataset = ConcatDataset([train_dataset_0, train_dataset_1])"
   ]
  },
  {
   "cell_type": "code",
   "execution_count": 24,
   "metadata": {},
   "outputs": [],
   "source": [
    "train_dataloader = DataLoader(train_dataset, batch_size=10, shuffle=True)"
   ]
  },
  {
   "cell_type": "code",
   "execution_count": 26,
   "metadata": {},
   "outputs": [
    {
     "name": "stdout",
     "output_type": "stream",
     "text": [
      "80\n",
      "torch.Size([10, 1, 224, 224])\n",
      "torch.Size([10])\n",
      "tensor([1, 0, 1, 0, 1, 1, 0, 0, 1, 1])\n"
     ]
    }
   ],
   "source": [
    "# Show shape of dataloader\n",
    "print(len(train_dataloader))\n",
    "for data, labels in train_dataloader:\n",
    "    print(data.shape)\n",
    "    print(labels.shape)\n",
    "    # print labels\n",
    "    print(labels)\n",
    "    break"
   ]
  },
  {
   "cell_type": "code",
   "execution_count": 63,
   "metadata": {},
   "outputs": [],
   "source": [
    "classes = [0, 1, 3] # Classes to train on\n",
    "\n",
    "train_dataset = torch.load(\"../data/processed/train_data_\" + str(0) + \".pt\")\n",
    "if len(classes) > 1:\n",
    "    for _, i in enumerate(classes):\n",
    "        if i == 0:\n",
    "            continue\n",
    "        train_dataset_intermediate = torch.load(\"../data/processed/train_data_\" + str(i) + \".pt\")\n",
    "        train_dataset = torch.utils.data.ConcatDataset([train_dataset, train_dataset_intermediate])\n",
    "\n",
    "train_dataloader = torch.utils.data.DataLoader(train_dataset,\n",
    "                            batch_size=10,\n",
    "                            shuffle=True)"
   ]
  },
  {
   "cell_type": "code",
   "execution_count": 64,
   "metadata": {},
   "outputs": [
    {
     "name": "stdout",
     "output_type": "stream",
     "text": [
      "120\n",
      "torch.Size([10, 1, 224, 224])\n",
      "torch.Size([10])\n",
      "tensor([3, 1, 1, 0, 0, 3, 1, 1, 1, 0])\n"
     ]
    }
   ],
   "source": [
    "# Show shape of dataloader\n",
    "print(len(train_dataloader))\n",
    "for data, labels in train_dataloader:\n",
    "    print(data.shape)\n",
    "    print(labels.shape)\n",
    "    # print labels\n",
    "    print(labels)\n",
    "    break"
   ]
  },
  {
   "cell_type": "code",
   "execution_count": null,
   "metadata": {},
   "outputs": [],
   "source": []
  }
 ],
 "metadata": {
  "kernelspec": {
   "display_name": "mlops_group8",
   "language": "python",
   "name": "python3"
  },
  "language_info": {
   "codemirror_mode": {
    "name": "ipython",
    "version": 3
   },
   "file_extension": ".py",
   "mimetype": "text/x-python",
   "name": "python",
   "nbconvert_exporter": "python",
   "pygments_lexer": "ipython3",
   "version": "3.11.7"
  }
 },
 "nbformat": 4,
 "nbformat_minor": 2
}
